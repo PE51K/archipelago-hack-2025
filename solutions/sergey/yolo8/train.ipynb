{
 "metadata": {
  "kernelspec": {
   "language": "python",
   "display_name": "Python 3",
   "name": "python3"
  },
  "language_info": {
   "name": "python",
   "version": "3.11.13",
   "mimetype": "text/x-python",
   "codemirror_mode": {
    "name": "ipython",
    "version": 3
   },
   "pygments_lexer": "ipython3",
   "nbconvert_exporter": "python",
   "file_extension": ".py"
  },
  "kaggle": {
   "accelerator": "gpu",
   "dataSources": [
    {
     "sourceId": 12644389,
     "sourceType": "datasetVersion",
     "datasetId": 7990089
    },
    {
     "sourceId": 12651738,
     "sourceType": "datasetVersion",
     "datasetId": 7995388
    }
   ],
   "dockerImageVersionId": 31090,
   "isInternetEnabled": true,
   "language": "python",
   "sourceType": "notebook",
   "isGpuEnabled": true
  }
 },
 "nbformat_minor": 4,
 "nbformat": 4,
 "cells": [
  {
   "cell_type": "code",
   "source": [
    "from ultralytics import YOLO\n",
    "\n",
    "\n",
    "model = YOLO(\"yolov8n.pt\")\n",
    "\n",
    "# Параметры обучения\n",
    "results = model.train(\n",
    "    data=\"/kaggle/input/yolo11/data.yaml\",\n",
    "    epochs=20,\n",
    "    patience=5,\n",
    "    imgsz=640,\n",
    "    batch=16,\n",
    "    workers=4,\n",
    "    device=0,\n",
    "    optimizer=\"SGD\",\n",
    "    lr0=0.001,\n",
    "    lrf=0.01,\n",
    "    weight_decay=0.0005,\n",
    "    warmup_epochs=3,\n",
    "    warmup_momentum=0.8,\n",
    "    warmup_bias_lr=0.1,\n",
    "    \n",
    "    # Аугментации\n",
    "    augment=True,\n",
    "    hsv_h=0.015,       # коррекция оттенка\n",
    "    hsv_s=0.7,         # коррекция насыщенности\n",
    "    hsv_v=0.4,         # коррекция яркости\n",
    "    degrees=10.0,      # вращение\n",
    "    translate=0.1,     # смещение\n",
    "    scale=0.5,         # масштабирование\n",
    "    shear=2.0,         # наклон\n",
    "    perspective=0.0001, # перспективные искажения\n",
    "    flipud=0.5,        # переворот по вертикали\n",
    "    fliplr=0.5,        # зеркальное отражение\n",
    "    mosaic=1.0,        # мозаичная аугментация\n",
    "    mixup=0.1,         # смешивание изображений\n",
    "    \n",
    "    # Настройки для ускорения работы с большим датасетом\n",
    "    cache=\"disk\",\n",
    "    single_cls=True,   # если только один класс\n",
    "    pretrained=True,   # использовать предобученные веса\n",
    "    verbose=True,      # вывод логов\n",
    "    seed=42,           # фиксированный seed для воспроизводимости\n",
    "    deterministic=True,\n",
    "    \n",
    "    # Сохранение результатов\n",
    "    project=\"yolov8_drone_detection\",\n",
    "    name=\"exp1\",\n",
    ")"
   ],
   "metadata": {
    "_uuid": "8f2839f25d086af736a60e9eeb907d3b93b6e0e5",
    "_cell_guid": "b1076dfc-b9ad-4769-8c92-a6c4dae69d19",
    "trusted": true,
    "execution": {
     "iopub.status.busy": "2025-08-03T08:34:22.573438Z",
     "iopub.execute_input": "2025-08-03T08:34:22.573819Z",
     "execution_failed": "2025-08-03T18:20:11.775Z"
    }
   },
   "outputs": [
    {
     "name": "stderr",
     "text": "Downloading https://github.com/ultralytics/assets/releases/download/v8.3.0/yolov8n.pt to 'yolov8n.pt': 100%|██████████| 6.25M/6.25M [00:00<00:00, 70.4MB/s]\n",
     "output_type": "stream"
    },
    {
     "name": "stdout",
     "text": "Ultralytics 8.3.173 🚀 Python-3.11.13 torch-2.6.0+cu124 CUDA:0 (Tesla P100-PCIE-16GB, 16269MiB)\n\u001B[34m\u001B[1mengine/trainer: \u001B[0magnostic_nms=False, amp=True, augment=True, auto_augment=randaugment, batch=16, bgr=0.0, box=7.5, cache=disk, cfg=None, classes=None, close_mosaic=10, cls=0.5, conf=None, copy_paste=0.0, copy_paste_mode=flip, cos_lr=False, cutmix=0.0, data=/kaggle/input/yolo11/data.yaml, degrees=10.0, deterministic=True, device=0, dfl=1.5, dnn=False, dropout=0.0, dynamic=False, embed=None, epochs=20, erasing=0.4, exist_ok=False, fliplr=0.5, flipud=0.5, format=torchscript, fraction=1.0, freeze=None, half=False, hsv_h=0.015, hsv_s=0.7, hsv_v=0.4, imgsz=640, int8=False, iou=0.7, keras=False, kobj=1.0, line_width=None, lr0=0.001, lrf=0.01, mask_ratio=4, max_det=300, mixup=0.1, mode=train, model=yolov8n.pt, momentum=0.937, mosaic=1.0, multi_scale=False, name=exp1, nbs=64, nms=False, opset=None, optimize=False, optimizer=SGD, overlap_mask=True, patience=5, perspective=0.0001, plots=True, pose=12.0, pretrained=True, profile=False, project=yolov8_drone_detection, rect=False, resume=False, retina_masks=False, save=True, save_conf=False, save_crop=False, save_dir=yolov8_drone_detection/exp1, save_frames=False, save_json=False, save_period=-1, save_txt=False, scale=0.5, seed=42, shear=2.0, show=False, show_boxes=True, show_conf=True, show_labels=True, simplify=True, single_cls=True, source=None, split=val, stream_buffer=False, task=detect, time=None, tracker=botsort.yaml, translate=0.1, val=True, verbose=True, vid_stride=1, visualize=False, warmup_bias_lr=0.1, warmup_epochs=3, warmup_momentum=0.8, weight_decay=0.0005, workers=4, workspace=None\nOverriding class names with single class.\nOverriding model.yaml nc=80 with nc=1\n\n                   from  n    params  module                                       arguments                     \n  0                  -1  1       464  ultralytics.nn.modules.conv.Conv             [3, 16, 3, 2]                 \n  1                  -1  1      4672  ultralytics.nn.modules.conv.Conv             [16, 32, 3, 2]                \n  2                  -1  1      7360  ultralytics.nn.modules.block.C2f             [32, 32, 1, True]             \n  3                  -1  1     18560  ultralytics.nn.modules.conv.Conv             [32, 64, 3, 2]                \n  4                  -1  2     49664  ultralytics.nn.modules.block.C2f             [64, 64, 2, True]             \n  5                  -1  1     73984  ultralytics.nn.modules.conv.Conv             [64, 128, 3, 2]               \n  6                  -1  2    197632  ultralytics.nn.modules.block.C2f             [128, 128, 2, True]           \n  7                  -1  1    295424  ultralytics.nn.modules.conv.Conv             [128, 256, 3, 2]              \n  8                  -1  1    460288  ultralytics.nn.modules.block.C2f             [256, 256, 1, True]           \n  9                  -1  1    164608  ultralytics.nn.modules.block.SPPF            [256, 256, 5]                 \n 10                  -1  1         0  torch.nn.modules.upsampling.Upsample         [None, 2, 'nearest']          \n 11             [-1, 6]  1         0  ultralytics.nn.modules.conv.Concat           [1]                           \n 12                  -1  1    148224  ultralytics.nn.modules.block.C2f             [384, 128, 1]                 \n 13                  -1  1         0  torch.nn.modules.upsampling.Upsample         [None, 2, 'nearest']          \n 14             [-1, 4]  1         0  ultralytics.nn.modules.conv.Concat           [1]                           \n 15                  -1  1     37248  ultralytics.nn.modules.block.C2f             [192, 64, 1]                  \n 16                  -1  1     36992  ultralytics.nn.modules.conv.Conv             [64, 64, 3, 2]                \n 17            [-1, 12]  1         0  ultralytics.nn.modules.conv.Concat           [1]                           \n 18                  -1  1    123648  ultralytics.nn.modules.block.C2f             [192, 128, 1]                 \n 19                  -1  1    147712  ultralytics.nn.modules.conv.Conv             [128, 128, 3, 2]              \n 20             [-1, 9]  1         0  ultralytics.nn.modules.conv.Concat           [1]                           \n 21                  -1  1    493056  ultralytics.nn.modules.block.C2f             [384, 256, 1]                 \n 22        [15, 18, 21]  1    751507  ultralytics.nn.modules.head.Detect           [1, [64, 128, 256]]           \nModel summary: 129 layers, 3,011,043 parameters, 3,011,027 gradients, 8.2 GFLOPs\n\nTransferred 319/355 items from pretrained weights\nFreezing layer 'model.22.dfl.conv.weight'\n\u001B[34m\u001B[1mAMP: \u001B[0mrunning Automatic Mixed Precision (AMP) checks...\n\u001B[34m\u001B[1mAMP: \u001B[0mchecks passed ✅\n\u001B[34m\u001B[1mtrain: \u001B[0mFast image access ✅ (ping: 0.2±0.2 ms, read: 216.6±294.2 MB/s, size: 4632.9 KB)\n",
     "output_type": "stream"
    },
    {
     "name": "stderr",
     "text": "\u001B[34m\u001B[1mtrain: \u001B[0mScanning /kaggle/input/uav-people/labels/train... 59022 images, 24929 backgrounds, 0 corrupt: 100%|██████████| 59022/59022 [04:20<00:00, 226.68it/s]\n",
     "output_type": "stream"
    },
    {
     "name": "stdout",
     "text": "WARNING ⚠️ \u001B[34m\u001B[1mtrain: \u001B[0mCache directory /kaggle/input/uav-people/labels is not writeable, cache not saved.\nWARNING ⚠️ \u001B[34m\u001B[1mtrain: \u001B[0mSkipping caching images to disk, directory not writeable\n\u001B[34m\u001B[1malbumentations: \u001B[0mBlur(p=0.01, blur_limit=(3, 7)), MedianBlur(p=0.01, blur_limit=(3, 7)), ToGray(p=0.01, method='weighted_average', num_output_channels=3), CLAHE(p=0.01, clip_limit=(1.0, 4.0), tile_grid_size=(8, 8))\n\u001B[34m\u001B[1mval: \u001B[0mFast image access ✅ (ping: 0.1±0.0 ms, read: 67.3±34.7 MB/s, size: 5558.3 KB)\n",
     "output_type": "stream"
    },
    {
     "name": "stderr",
     "text": "\u001B[34m\u001B[1mval: \u001B[0mScanning /kaggle/input/uav-people/labels/val... 1000 images, 294 backgrounds, 0 corrupt: 100%|██████████| 1000/1000 [00:05<00:00, 166.96it/s]\n",
     "output_type": "stream"
    },
    {
     "name": "stdout",
     "text": "WARNING ⚠️ \u001B[34m\u001B[1mval: \u001B[0mCache directory /kaggle/input/uav-people/labels is not writeable, cache not saved.\nWARNING ⚠️ \u001B[34m\u001B[1mval: \u001B[0mSkipping caching images to disk, directory not writeable\nPlotting labels to yolov8_drone_detection/exp1/labels.jpg... \n\u001B[34m\u001B[1moptimizer:\u001B[0m SGD(lr=0.001, momentum=0.937) with parameter groups 57 weight(decay=0.0), 64 weight(decay=0.0005), 63 bias(decay=0.0)\nImage sizes 640 train, 640 val\nUsing 4 dataloader workers\nLogging results to \u001B[1myolov8_drone_detection/exp1\u001B[0m\nStarting training for 20 epochs...\n\n      Epoch    GPU_mem   box_loss   cls_loss   dfl_loss  Instances       Size\n",
     "output_type": "stream"
    },
    {
     "name": "stderr",
     "text": "       1/20      4.32G       1.97      2.001       1.08         31        640: 100%|██████████| 3689/3689 [54:56<00:00,  1.12it/s]  \n                 Class     Images  Instances      Box(P          R      mAP50  mAP50-95): 100%|██████████| 32/32 [01:38<00:00,  3.06s/it]",
     "output_type": "stream"
    },
    {
     "name": "stdout",
     "text": "                   all       1000       1763      0.669      0.541      0.522      0.177\n",
     "output_type": "stream"
    },
    {
     "name": "stderr",
     "text": "\n",
     "output_type": "stream"
    },
    {
     "name": "stdout",
     "text": "\n      Epoch    GPU_mem   box_loss   cls_loss   dfl_loss  Instances       Size\n",
     "output_type": "stream"
    },
    {
     "name": "stderr",
     "text": "       2/20      4.33G       1.84      1.437      1.016         16        640: 100%|██████████| 3689/3689 [53:28<00:00,  1.15it/s]  \n                 Class     Images  Instances      Box(P          R      mAP50  mAP50-95): 100%|██████████| 32/32 [01:36<00:00,  3.03s/it]",
     "output_type": "stream"
    },
    {
     "name": "stdout",
     "text": "                   all       1000       1763       0.74      0.589      0.599      0.231\n",
     "output_type": "stream"
    },
    {
     "name": "stderr",
     "text": "\n",
     "output_type": "stream"
    },
    {
     "name": "stdout",
     "text": "\n      Epoch    GPU_mem   box_loss   cls_loss   dfl_loss  Instances       Size\n",
     "output_type": "stream"
    },
    {
     "name": "stderr",
     "text": "       3/20      4.34G      1.818      1.381      1.005         22        640: 100%|██████████| 3689/3689 [49:10<00:00,  1.25it/s]  \n                 Class     Images  Instances      Box(P          R      mAP50  mAP50-95): 100%|██████████| 32/32 [01:31<00:00,  2.87s/it]",
     "output_type": "stream"
    },
    {
     "name": "stdout",
     "text": "                   all       1000       1763      0.728       0.59      0.594      0.224\n",
     "output_type": "stream"
    },
    {
     "name": "stderr",
     "text": "\n",
     "output_type": "stream"
    },
    {
     "name": "stdout",
     "text": "\n      Epoch    GPU_mem   box_loss   cls_loss   dfl_loss  Instances       Size\n",
     "output_type": "stream"
    },
    {
     "name": "stderr",
     "text": "       4/20      4.35G       1.79      1.343     0.9981         30        640: 100%|██████████| 3689/3689 [49:45<00:00,  1.24it/s]  \n                 Class     Images  Instances      Box(P          R      mAP50  mAP50-95): 100%|██████████| 32/32 [01:36<00:00,  3.03s/it]",
     "output_type": "stream"
    },
    {
     "name": "stdout",
     "text": "                   all       1000       1763      0.738      0.616      0.622      0.255\n",
     "output_type": "stream"
    },
    {
     "name": "stderr",
     "text": "\n",
     "output_type": "stream"
    },
    {
     "name": "stdout",
     "text": "\n      Epoch    GPU_mem   box_loss   cls_loss   dfl_loss  Instances       Size\n",
     "output_type": "stream"
    },
    {
     "name": "stderr",
     "text": "       5/20      4.37G      1.768      1.289     0.9904         26        640: 100%|██████████| 3689/3689 [51:25<00:00,  1.20it/s]  \n                 Class     Images  Instances      Box(P          R      mAP50  mAP50-95): 100%|██████████| 32/32 [01:36<00:00,  3.01s/it]\n",
     "output_type": "stream"
    },
    {
     "name": "stdout",
     "text": "                   all       1000       1763      0.743      0.601       0.64      0.274\n\n      Epoch    GPU_mem   box_loss   cls_loss   dfl_loss  Instances       Size\n",
     "output_type": "stream"
    },
    {
     "name": "stderr",
     "text": "       6/20      4.38G      1.742      1.236     0.9812         17        640: 100%|██████████| 3689/3689 [48:22<00:00,  1.27it/s]  \n                 Class     Images  Instances      Box(P          R      mAP50  mAP50-95): 100%|██████████| 32/32 [01:26<00:00,  2.70s/it]",
     "output_type": "stream"
    },
    {
     "name": "stdout",
     "text": "                   all       1000       1763      0.762      0.652      0.676      0.301\n",
     "output_type": "stream"
    },
    {
     "name": "stderr",
     "text": "\n",
     "output_type": "stream"
    },
    {
     "name": "stdout",
     "text": "\n      Epoch    GPU_mem   box_loss   cls_loss   dfl_loss  Instances       Size\n",
     "output_type": "stream"
    },
    {
     "name": "stderr",
     "text": "       7/20      4.39G      1.721      1.206     0.9746         23        640: 100%|██████████| 3689/3689 [46:55<00:00,  1.31it/s]  \n                 Class     Images  Instances      Box(P          R      mAP50  mAP50-95): 100%|██████████| 32/32 [01:26<00:00,  2.70s/it]",
     "output_type": "stream"
    },
    {
     "name": "stdout",
     "text": "                   all       1000       1763       0.77      0.651      0.682      0.305\n",
     "output_type": "stream"
    },
    {
     "name": "stderr",
     "text": "\n",
     "output_type": "stream"
    },
    {
     "name": "stdout",
     "text": "\n      Epoch    GPU_mem   box_loss   cls_loss   dfl_loss  Instances       Size\n",
     "output_type": "stream"
    },
    {
     "name": "stderr",
     "text": "       8/20       4.4G      1.704      1.178     0.9693         14        640: 100%|██████████| 3689/3689 [46:13<00:00,  1.33it/s]  \n                 Class     Images  Instances      Box(P          R      mAP50  mAP50-95): 100%|██████████| 32/32 [01:25<00:00,  2.67s/it]",
     "output_type": "stream"
    },
    {
     "name": "stdout",
     "text": "                   all       1000       1763      0.786      0.665      0.697      0.313\n",
     "output_type": "stream"
    },
    {
     "name": "stderr",
     "text": "\n",
     "output_type": "stream"
    },
    {
     "name": "stdout",
     "text": "\n      Epoch    GPU_mem   box_loss   cls_loss   dfl_loss  Instances       Size\n",
     "output_type": "stream"
    },
    {
     "name": "stderr",
     "text": "       9/20      4.41G       1.69      1.151     0.9664         20        640: 100%|██████████| 3689/3689 [45:44<00:00,  1.34it/s]  \n                 Class     Images  Instances      Box(P          R      mAP50  mAP50-95): 100%|██████████| 32/32 [01:25<00:00,  2.66s/it]",
     "output_type": "stream"
    },
    {
     "name": "stdout",
     "text": "                   all       1000       1763      0.803      0.683      0.716      0.327\n",
     "output_type": "stream"
    },
    {
     "name": "stderr",
     "text": "\n",
     "output_type": "stream"
    },
    {
     "name": "stdout",
     "text": "\n      Epoch    GPU_mem   box_loss   cls_loss   dfl_loss  Instances       Size\n",
     "output_type": "stream"
    },
    {
     "name": "stderr",
     "text": "      10/20      4.42G      1.671      1.124     0.9593         19        640: 100%|██████████| 3689/3689 [46:02<00:00,  1.34it/s]  \n                 Class     Images  Instances      Box(P          R      mAP50  mAP50-95): 100%|██████████| 32/32 [01:24<00:00,  2.65s/it]",
     "output_type": "stream"
    },
    {
     "name": "stdout",
     "text": "                   all       1000       1763      0.812      0.694       0.73      0.337\n",
     "output_type": "stream"
    },
    {
     "name": "stderr",
     "text": "\n",
     "output_type": "stream"
    },
    {
     "name": "stdout",
     "text": "Closing dataloader mosaic\n\u001B[34m\u001B[1malbumentations: \u001B[0mBlur(p=0.01, blur_limit=(3, 7)), MedianBlur(p=0.01, blur_limit=(3, 7)), ToGray(p=0.01, method='weighted_average', num_output_channels=3), CLAHE(p=0.01, clip_limit=(1.0, 4.0), tile_grid_size=(8, 8))\n\n      Epoch    GPU_mem   box_loss   cls_loss   dfl_loss  Instances       Size\n",
     "output_type": "stream"
    },
    {
     "name": "stderr",
     "text": "      11/20      4.44G      1.608      1.034     0.9633          7        640: 100%|██████████| 3689/3689 [44:10<00:00,  1.39it/s]  \n                 Class     Images  Instances      Box(P          R      mAP50  mAP50-95): 100%|██████████| 32/32 [01:24<00:00,  2.63s/it]",
     "output_type": "stream"
    },
    {
     "name": "stdout",
     "text": "                   all       1000       1763       0.81      0.668       0.72       0.33\n",
     "output_type": "stream"
    },
    {
     "name": "stderr",
     "text": "\n",
     "output_type": "stream"
    },
    {
     "name": "stdout",
     "text": "\n      Epoch    GPU_mem   box_loss   cls_loss   dfl_loss  Instances       Size\n",
     "output_type": "stream"
    },
    {
     "name": "stderr",
     "text": "      12/20      4.45G      1.593      1.016     0.9599         15        640:  60%|█████▉    | 2206/3689 [26:24<11:05,  2.23it/s] ",
     "output_type": "stream"
    }
   ],
   "execution_count": null
  },
  {
   "cell_type": "code",
   "source": [],
   "metadata": {
    "trusted": true
   },
   "outputs": [],
   "execution_count": null
  }
 ]
}
