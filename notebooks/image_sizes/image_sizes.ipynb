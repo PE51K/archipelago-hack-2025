{
 "cells": [
  {
   "cell_type": "markdown",
   "metadata": {},
   "source": [
    "# Data"
   ]
  },
  {
   "cell_type": "code",
   "execution_count": 2,
   "metadata": {
    "_cell_guid": "b1076dfc-b9ad-4769-8c92-a6c4dae69d19",
    "_uuid": "8f2839f25d086af736a60e9eeb907d3b93b6e0e5",
    "execution": {
     "iopub.execute_input": "2025-08-02T17:08:24.560485Z",
     "iopub.status.busy": "2025-08-02T17:08:24.560035Z",
     "iopub.status.idle": "2025-08-02T17:08:24.573171Z",
     "shell.execute_reply": "2025-08-02T17:08:24.572049Z",
     "shell.execute_reply.started": "2025-08-02T17:08:24.560426Z"
    },
    "trusted": true
   },
   "outputs": [
    {
     "name": "stdout",
     "output_type": "stream",
     "text": [
      "['labels', 'uav_people.yaml', 'images']\n"
     ]
    }
   ],
   "source": [
    "import os\n",
    "print(os.listdir('/kaggle/input/uav-people'))"
   ]
  },
  {
   "cell_type": "code",
   "execution_count": 5,
   "metadata": {
    "execution": {
     "iopub.execute_input": "2025-08-02T17:11:19.977052Z",
     "iopub.status.busy": "2025-08-02T17:11:19.975425Z",
     "iopub.status.idle": "2025-08-02T17:11:25.921818Z",
     "shell.execute_reply": "2025-08-02T17:11:25.920594Z",
     "shell.execute_reply.started": "2025-08-02T17:11:19.977007Z"
    },
    "trusted": true
   },
   "outputs": [
    {
     "name": "stdout",
     "output_type": "stream",
     "text": [
      "02_second_part_DataSet_Human_Rescue_056729.jpg → 2048 × 1820 px      529.6 KB\n",
      "02_second_part_DataSet_Human_Rescue_084766.jpg → 2048 × 1820 px      800.8 KB\n",
      "02_second_part_DataSet_Human_Rescue_046505.jpg → 2048 × 1820 px      592.9 KB\n",
      "02_second_part_DataSet_Human_Rescue_114494.jpg → 2048 × 1820 px      415.6 KB\n",
      "02_second_part_DataSet_Human_Rescue_125038.jpg → 2000 × 1500 px      510.0 KB\n",
      "02_second_part_DataSet_Human_Rescue_032618.jpg → 4096 × 2730 px     2999.5 KB\n",
      "02_second_part_DataSet_Human_Rescue_035833.jpg → 2048 × 1820 px      607.3 KB\n",
      "02_second_part_DataSet_Human_Rescue_003278.jpg → 2736 × 1824 px      547.2 KB\n",
      "02_second_part_DataSet_Human_Rescue_034421.jpg → 4096 × 2730 px     2661.0 KB\n",
      "02_second_part_DataSet_Human_Rescue_125867.jpg → 2000 × 1500 px      588.5 KB\n",
      "\n",
      "── Averages for this sample ──\n",
      "Dimensions : 2516.8 × 1938.4 px\n",
      "Pixel area : 5199142.4 px²\n",
      "File size  : 1025.2 KB\n",
      "\n",
      "-------------=====================---------------\n",
      "\n",
      "pub_03_1_001115.jpg            → 5472 × 3648 px     3496.6 KB\n",
      "priv_26_1_012852.jpg           → 8192 × 5460 px     8010.2 KB\n",
      "pub_02_1_000981.jpg            → 5472 × 3648 px     3357.4 KB\n",
      "pub_02_1_000965.jpg            → 5472 × 3648 px     3217.6 KB\n",
      "pub_25_1_012040.jpg            → 8192 × 5460 px     8610.4 KB\n",
      "pub_01_1_000114.jpg            → 5472 × 3648 px     3119.9 KB\n",
      "pub_03_1_001247.jpg            → 5472 × 3648 px     2987.7 KB\n",
      "priv_03_1_001061.jpg           → 5472 × 3648 px     3721.7 KB\n",
      "priv_24_1_011511.jpg           → 8192 × 5460 px     9077.5 KB\n",
      "pub_25_1_012296.jpg            → 8192 × 5460 px     7999.1 KB\n",
      "\n",
      "── Averages for this sample ──\n",
      "Dimensions : 6560.0 × 4372.8 px\n",
      "Pixel area : 29868441.6 px²\n",
      "File size  : 5359.8 KB\n"
     ]
    }
   ],
   "source": [
    "import os\n",
    "import random\n",
    "import glob\n",
    "from PIL import Image\n",
    "import numpy as np\n",
    "\n",
    "\n",
    "def inspect_random_images(dir_path: str, sample_size: int = 10) -> None:\n",
    "    \"\"\"\n",
    "    Pick `sample_size` random images from `dir_path`, print their dimensions\n",
    "    and file sizes, and report the means.\n",
    "    \"\"\"\n",
    "    # Collect image paths (add/remove extensions as needed)\n",
    "    img_paths = []\n",
    "    for ext in (\"*.jpg\", \"*.jpeg\", \"*.png\", \"*.bmp\", \"*.gif\", \"*.tiff\", \"*.webp\"):\n",
    "        img_paths.extend(glob.glob(os.path.join(dir_path, ext)))\n",
    "\n",
    "    if len(img_paths) < sample_size:\n",
    "        raise ValueError(\n",
    "            f\"Only found {len(img_paths)} images in {dir_path!r}; need {sample_size}.\"\n",
    "        )\n",
    "\n",
    "    chosen = random.sample(img_paths, sample_size)\n",
    "\n",
    "    widths, heights, areas, file_sizes = [], [], [], []\n",
    "\n",
    "    for path in chosen:\n",
    "        with Image.open(path) as img:\n",
    "            w, h = img.size               # dimensions in pixels\n",
    "\n",
    "        fsize = os.path.getsize(path)      # bytes on disk\n",
    "\n",
    "        print(\n",
    "            f\"{os.path.basename(path):30s} → \"\n",
    "            f\"{w:4d} × {h:<4d} px   {fsize/1024:8.1f} KB\"\n",
    "        )\n",
    "\n",
    "        widths.append(w)\n",
    "        heights.append(h)\n",
    "        areas.append(w * h)\n",
    "        file_sizes.append(fsize)\n",
    "\n",
    "    # Compute means\n",
    "    mean_w, mean_h = np.mean(widths), np.mean(heights)\n",
    "    mean_area = np.mean(areas)\n",
    "    mean_fsize = np.mean(file_sizes)\n",
    "\n",
    "    print(\"\\n── Averages for this sample ──\")\n",
    "    print(f\"Dimensions : {mean_w:.1f} × {mean_h:.1f} px\")\n",
    "    print(f\"Pixel area : {mean_area:.1f} px²\")\n",
    "    print(f\"File size  : {mean_fsize/1024:.1f} KB\")\n",
    "\n",
    "\n",
    "inspect_random_images(\"/kaggle/input/uav-people/images/train\")\n",
    "print(\"\\n-------------=====================---------------\\n\")\n",
    "inspect_random_images(\"/kaggle/input/uav-people/images/val\")\n"
   ]
  },
  {
   "cell_type": "code",
   "execution_count": 6,
   "metadata": {
    "execution": {
     "iopub.execute_input": "2025-08-02T17:11:37.073668Z",
     "iopub.status.busy": "2025-08-02T17:11:37.073295Z",
     "iopub.status.idle": "2025-08-02T17:26:48.142563Z",
     "shell.execute_reply": "2025-08-02T17:26:48.141392Z",
     "shell.execute_reply.started": "2025-08-02T17:11:37.073639Z"
    },
    "trusted": true
   },
   "outputs": [
    {
     "name": "stdout",
     "output_type": "stream",
     "text": [
      "Scanned 59022 images in '/kaggle/input/uav-people/images/train'.\n",
      "\n",
      "Top 5 most common sizes:\n",
      "  2048×1820 px  —  21975 image(s)  ( 37.2%)\n",
      "  4096×2730 px  —  19360 image(s)  ( 32.8%)\n",
      "  8192×5460 px  —  7491 image(s)  ( 12.7%)\n",
      "  2000×1500 px  —  3850 image(s)  (  6.5%)\n",
      "  2736×1824 px  —  3070 image(s)  (  5.2%)\n",
      "\n",
      "-------------=====================---------------\n",
      "\n",
      "Scanned 1000 images in '/kaggle/input/uav-people/images/val'.\n",
      "\n",
      "Top 2 most common sizes:\n",
      "  8192×5460 px  —   599 image(s)  ( 59.9%)\n",
      "  5472×3648 px  —   401 image(s)  ( 40.1%)\n"
     ]
    }
   ],
   "source": [
    "import os\n",
    "import glob\n",
    "from collections import Counter\n",
    "from PIL import Image\n",
    "\n",
    "\n",
    "def top_image_sizes(dir_path: str, top_n: int = 5) -> None:\n",
    "    \"\"\"\n",
    "    Find the `top_n` most common (width, height) pairs among all images\n",
    "    in `dir_path` and print them sorted by count.\n",
    "\n",
    "    Parameters\n",
    "    ----------\n",
    "    dir_path : str\n",
    "        Directory to search (recursively is not enabled—add os.walk if needed).\n",
    "    top_n : int, default=5\n",
    "        How many of the most common sizes to report.\n",
    "    \"\"\"\n",
    "    # Collect sizes\n",
    "    size_counts = Counter()\n",
    "    for ext in (\"*.jpg\", \"*.jpeg\", \"*.png\", \"*.bmp\", \"*.gif\", \"*.tiff\", \"*.webp\"):\n",
    "        for path in glob.glob(os.path.join(dir_path, ext)):\n",
    "            try:\n",
    "                with Image.open(path) as img:\n",
    "                    size_counts[img.size] += 1  # (width, height)\n",
    "            except (OSError, ValueError):\n",
    "                # Skip unreadable/corrupt files\n",
    "                continue\n",
    "\n",
    "    if not size_counts:\n",
    "        print(\"No images found.\")\n",
    "        return\n",
    "\n",
    "    total = sum(size_counts.values())\n",
    "    print(f\"Scanned {total} images in '{dir_path}'.\\n\")\n",
    "    print(f\"Top {min(top_n, len(size_counts))} most common sizes:\")\n",
    "    for (w, h), count in size_counts.most_common(top_n):\n",
    "        pct = count / total * 100\n",
    "        print(f\"  {w}×{h} px  —  {count:>4} image(s)  ({pct:5.1f}%)\")\n",
    "\n",
    "\n",
    "top_image_sizes(\"/kaggle/input/uav-people/images/train\", top_n=5)\n",
    "print(\"\\n-------------=====================---------------\\n\")\n",
    "top_image_sizes(\"/kaggle/input/uav-people/images/val\", top_n=5)"
   ]
  }
 ],
 "metadata": {
  "kaggle": {
   "accelerator": "none",
   "dataSources": [
    {
     "datasetId": 7990089,
     "sourceId": 12644389,
     "sourceType": "datasetVersion"
    }
   ],
   "dockerImageVersionId": 31089,
   "isGpuEnabled": false,
   "isInternetEnabled": true,
   "language": "python",
   "sourceType": "notebook"
  },
  "kernelspec": {
   "display_name": "Python 3",
   "language": "python",
   "name": "python3"
  },
  "language_info": {
   "codemirror_mode": {
    "name": "ipython",
    "version": 3
   },
   "file_extension": ".py",
   "mimetype": "text/x-python",
   "name": "python",
   "nbconvert_exporter": "python",
   "pygments_lexer": "ipython3",
   "version": "3.11.13"
  }
 },
 "nbformat": 4,
 "nbformat_minor": 4
}
